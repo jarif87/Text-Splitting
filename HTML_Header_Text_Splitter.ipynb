{
  "nbformat": 4,
  "nbformat_minor": 0,
  "metadata": {
    "colab": {
      "provenance": []
    },
    "kernelspec": {
      "name": "python3",
      "display_name": "Python 3"
    },
    "language_info": {
      "name": "python"
    }
  },
  "cells": [
    {
      "cell_type": "code",
      "execution_count": 1,
      "metadata": {
        "colab": {
          "base_uri": "https://localhost:8080/"
        },
        "id": "wMJ0uNQ4JTks",
        "outputId": "9bf97c71-15b2-496a-c56e-89a0c1d5c09f"
      },
      "outputs": [
        {
          "output_type": "stream",
          "name": "stdout",
          "text": [
            "Collecting langchain-community\n",
            "  Downloading langchain_community-0.3.15-py3-none-any.whl.metadata (2.9 kB)\n",
            "Requirement already satisfied: PyYAML>=5.3 in /usr/local/lib/python3.11/dist-packages (from langchain-community) (6.0.2)\n",
            "Requirement already satisfied: SQLAlchemy<3,>=1.4 in /usr/local/lib/python3.11/dist-packages (from langchain-community) (2.0.37)\n",
            "Requirement already satisfied: aiohttp<4.0.0,>=3.8.3 in /usr/local/lib/python3.11/dist-packages (from langchain-community) (3.11.11)\n",
            "Collecting dataclasses-json<0.7,>=0.5.7 (from langchain-community)\n",
            "  Downloading dataclasses_json-0.6.7-py3-none-any.whl.metadata (25 kB)\n",
            "Collecting httpx-sse<0.5.0,>=0.4.0 (from langchain-community)\n",
            "  Downloading httpx_sse-0.4.0-py3-none-any.whl.metadata (9.0 kB)\n",
            "Collecting langchain<0.4.0,>=0.3.15 (from langchain-community)\n",
            "  Downloading langchain-0.3.15-py3-none-any.whl.metadata (7.1 kB)\n",
            "Collecting langchain-core<0.4.0,>=0.3.31 (from langchain-community)\n",
            "  Downloading langchain_core-0.3.31-py3-none-any.whl.metadata (6.3 kB)\n",
            "Requirement already satisfied: langsmith<0.4,>=0.1.125 in /usr/local/lib/python3.11/dist-packages (from langchain-community) (0.2.10)\n",
            "Requirement already satisfied: numpy<2,>=1.22.4 in /usr/local/lib/python3.11/dist-packages (from langchain-community) (1.26.4)\n",
            "Collecting pydantic-settings<3.0.0,>=2.4.0 (from langchain-community)\n",
            "  Downloading pydantic_settings-2.7.1-py3-none-any.whl.metadata (3.5 kB)\n",
            "Requirement already satisfied: requests<3,>=2 in /usr/local/lib/python3.11/dist-packages (from langchain-community) (2.32.3)\n",
            "Requirement already satisfied: tenacity!=8.4.0,<10,>=8.1.0 in /usr/local/lib/python3.11/dist-packages (from langchain-community) (9.0.0)\n",
            "Requirement already satisfied: aiohappyeyeballs>=2.3.0 in /usr/local/lib/python3.11/dist-packages (from aiohttp<4.0.0,>=3.8.3->langchain-community) (2.4.4)\n",
            "Requirement already satisfied: aiosignal>=1.1.2 in /usr/local/lib/python3.11/dist-packages (from aiohttp<4.0.0,>=3.8.3->langchain-community) (1.3.2)\n",
            "Requirement already satisfied: attrs>=17.3.0 in /usr/local/lib/python3.11/dist-packages (from aiohttp<4.0.0,>=3.8.3->langchain-community) (24.3.0)\n",
            "Requirement already satisfied: frozenlist>=1.1.1 in /usr/local/lib/python3.11/dist-packages (from aiohttp<4.0.0,>=3.8.3->langchain-community) (1.5.0)\n",
            "Requirement already satisfied: multidict<7.0,>=4.5 in /usr/local/lib/python3.11/dist-packages (from aiohttp<4.0.0,>=3.8.3->langchain-community) (6.1.0)\n",
            "Requirement already satisfied: propcache>=0.2.0 in /usr/local/lib/python3.11/dist-packages (from aiohttp<4.0.0,>=3.8.3->langchain-community) (0.2.1)\n",
            "Requirement already satisfied: yarl<2.0,>=1.17.0 in /usr/local/lib/python3.11/dist-packages (from aiohttp<4.0.0,>=3.8.3->langchain-community) (1.18.3)\n",
            "Collecting marshmallow<4.0.0,>=3.18.0 (from dataclasses-json<0.7,>=0.5.7->langchain-community)\n",
            "  Downloading marshmallow-3.25.1-py3-none-any.whl.metadata (7.3 kB)\n",
            "Collecting typing-inspect<1,>=0.4.0 (from dataclasses-json<0.7,>=0.5.7->langchain-community)\n",
            "  Downloading typing_inspect-0.9.0-py3-none-any.whl.metadata (1.5 kB)\n",
            "Requirement already satisfied: langchain-text-splitters<0.4.0,>=0.3.3 in /usr/local/lib/python3.11/dist-packages (from langchain<0.4.0,>=0.3.15->langchain-community) (0.3.5)\n",
            "Requirement already satisfied: pydantic<3.0.0,>=2.7.4 in /usr/local/lib/python3.11/dist-packages (from langchain<0.4.0,>=0.3.15->langchain-community) (2.10.5)\n",
            "Requirement already satisfied: jsonpatch<2.0,>=1.33 in /usr/local/lib/python3.11/dist-packages (from langchain-core<0.4.0,>=0.3.31->langchain-community) (1.33)\n",
            "Requirement already satisfied: packaging<25,>=23.2 in /usr/local/lib/python3.11/dist-packages (from langchain-core<0.4.0,>=0.3.31->langchain-community) (24.2)\n",
            "Requirement already satisfied: typing-extensions>=4.7 in /usr/local/lib/python3.11/dist-packages (from langchain-core<0.4.0,>=0.3.31->langchain-community) (4.12.2)\n",
            "Requirement already satisfied: httpx<1,>=0.23.0 in /usr/local/lib/python3.11/dist-packages (from langsmith<0.4,>=0.1.125->langchain-community) (0.28.1)\n",
            "Requirement already satisfied: orjson<4.0.0,>=3.9.14 in /usr/local/lib/python3.11/dist-packages (from langsmith<0.4,>=0.1.125->langchain-community) (3.10.14)\n",
            "Requirement already satisfied: requests-toolbelt<2.0.0,>=1.0.0 in /usr/local/lib/python3.11/dist-packages (from langsmith<0.4,>=0.1.125->langchain-community) (1.0.0)\n",
            "Collecting python-dotenv>=0.21.0 (from pydantic-settings<3.0.0,>=2.4.0->langchain-community)\n",
            "  Downloading python_dotenv-1.0.1-py3-none-any.whl.metadata (23 kB)\n",
            "Requirement already satisfied: charset-normalizer<4,>=2 in /usr/local/lib/python3.11/dist-packages (from requests<3,>=2->langchain-community) (3.4.1)\n",
            "Requirement already satisfied: idna<4,>=2.5 in /usr/local/lib/python3.11/dist-packages (from requests<3,>=2->langchain-community) (3.10)\n",
            "Requirement already satisfied: urllib3<3,>=1.21.1 in /usr/local/lib/python3.11/dist-packages (from requests<3,>=2->langchain-community) (2.3.0)\n",
            "Requirement already satisfied: certifi>=2017.4.17 in /usr/local/lib/python3.11/dist-packages (from requests<3,>=2->langchain-community) (2024.12.14)\n",
            "Requirement already satisfied: greenlet!=0.4.17 in /usr/local/lib/python3.11/dist-packages (from SQLAlchemy<3,>=1.4->langchain-community) (3.1.1)\n",
            "Requirement already satisfied: anyio in /usr/local/lib/python3.11/dist-packages (from httpx<1,>=0.23.0->langsmith<0.4,>=0.1.125->langchain-community) (3.7.1)\n",
            "Requirement already satisfied: httpcore==1.* in /usr/local/lib/python3.11/dist-packages (from httpx<1,>=0.23.0->langsmith<0.4,>=0.1.125->langchain-community) (1.0.7)\n",
            "Requirement already satisfied: h11<0.15,>=0.13 in /usr/local/lib/python3.11/dist-packages (from httpcore==1.*->httpx<1,>=0.23.0->langsmith<0.4,>=0.1.125->langchain-community) (0.14.0)\n",
            "Requirement already satisfied: jsonpointer>=1.9 in /usr/local/lib/python3.11/dist-packages (from jsonpatch<2.0,>=1.33->langchain-core<0.4.0,>=0.3.31->langchain-community) (3.0.0)\n",
            "Requirement already satisfied: annotated-types>=0.6.0 in /usr/local/lib/python3.11/dist-packages (from pydantic<3.0.0,>=2.7.4->langchain<0.4.0,>=0.3.15->langchain-community) (0.7.0)\n",
            "Requirement already satisfied: pydantic-core==2.27.2 in /usr/local/lib/python3.11/dist-packages (from pydantic<3.0.0,>=2.7.4->langchain<0.4.0,>=0.3.15->langchain-community) (2.27.2)\n",
            "Collecting mypy-extensions>=0.3.0 (from typing-inspect<1,>=0.4.0->dataclasses-json<0.7,>=0.5.7->langchain-community)\n",
            "  Downloading mypy_extensions-1.0.0-py3-none-any.whl.metadata (1.1 kB)\n",
            "Requirement already satisfied: sniffio>=1.1 in /usr/local/lib/python3.11/dist-packages (from anyio->httpx<1,>=0.23.0->langsmith<0.4,>=0.1.125->langchain-community) (1.3.1)\n",
            "Downloading langchain_community-0.3.15-py3-none-any.whl (2.5 MB)\n",
            "\u001b[2K   \u001b[90m━━━━━━━━━━━━━━━━━━━━━━━━━━━━━━━━━━━━━━━━\u001b[0m \u001b[32m2.5/2.5 MB\u001b[0m \u001b[31m24.3 MB/s\u001b[0m eta \u001b[36m0:00:00\u001b[0m\n",
            "\u001b[?25hDownloading dataclasses_json-0.6.7-py3-none-any.whl (28 kB)\n",
            "Downloading httpx_sse-0.4.0-py3-none-any.whl (7.8 kB)\n",
            "Downloading langchain-0.3.15-py3-none-any.whl (1.0 MB)\n",
            "\u001b[2K   \u001b[90m━━━━━━━━━━━━━━━━━━━━━━━━━━━━━━━━━━━━━━━━\u001b[0m \u001b[32m1.0/1.0 MB\u001b[0m \u001b[31m24.6 MB/s\u001b[0m eta \u001b[36m0:00:00\u001b[0m\n",
            "\u001b[?25hDownloading langchain_core-0.3.31-py3-none-any.whl (412 kB)\n",
            "\u001b[2K   \u001b[90m━━━━━━━━━━━━━━━━━━━━━━━━━━━━━━━━━━━━━━━━\u001b[0m \u001b[32m412.2/412.2 kB\u001b[0m \u001b[31m18.3 MB/s\u001b[0m eta \u001b[36m0:00:00\u001b[0m\n",
            "\u001b[?25hDownloading pydantic_settings-2.7.1-py3-none-any.whl (29 kB)\n",
            "Downloading marshmallow-3.25.1-py3-none-any.whl (49 kB)\n",
            "\u001b[2K   \u001b[90m━━━━━━━━━━━━━━━━━━━━━━━━━━━━━━━━━━━━━━━━\u001b[0m \u001b[32m49.6/49.6 kB\u001b[0m \u001b[31m2.3 MB/s\u001b[0m eta \u001b[36m0:00:00\u001b[0m\n",
            "\u001b[?25hDownloading python_dotenv-1.0.1-py3-none-any.whl (19 kB)\n",
            "Downloading typing_inspect-0.9.0-py3-none-any.whl (8.8 kB)\n",
            "Downloading mypy_extensions-1.0.0-py3-none-any.whl (4.7 kB)\n",
            "Installing collected packages: python-dotenv, mypy-extensions, marshmallow, httpx-sse, typing-inspect, pydantic-settings, dataclasses-json, langchain-core, langchain, langchain-community\n",
            "  Attempting uninstall: langchain-core\n",
            "    Found existing installation: langchain-core 0.3.29\n",
            "    Uninstalling langchain-core-0.3.29:\n",
            "      Successfully uninstalled langchain-core-0.3.29\n",
            "  Attempting uninstall: langchain\n",
            "    Found existing installation: langchain 0.3.14\n",
            "    Uninstalling langchain-0.3.14:\n",
            "      Successfully uninstalled langchain-0.3.14\n",
            "Successfully installed dataclasses-json-0.6.7 httpx-sse-0.4.0 langchain-0.3.15 langchain-community-0.3.15 langchain-core-0.3.31 marshmallow-3.25.1 mypy-extensions-1.0.0 pydantic-settings-2.7.1 python-dotenv-1.0.1 typing-inspect-0.9.0\n"
          ]
        }
      ],
      "source": [
        "! pip install langchain-community"
      ]
    },
    {
      "cell_type": "code",
      "source": [
        "from langchain_text_splitters import HTMLHeaderTextSplitter\n",
        "\n",
        "html_string = \"\"\"\n",
        "<!DOCTYPE html>\n",
        "<html>\n",
        "<body>\n",
        "    <div>\n",
        "        <h1>Foo</h1>\n",
        "        <p>Some intro text about Foo.</p>\n",
        "        <div>\n",
        "            <h2>Bar main section</h2>\n",
        "            <p>Some intro text about Bar.</p>\n",
        "            <h3>Bar subsection 1</h3>\n",
        "            <p>Some text about the first subtopic of Bar.</p>\n",
        "            <h3>Bar subsection 2</h3>\n",
        "            <p>Some text about the second subtopic of Bar.</p>\n",
        "        </div>\n",
        "        <div>\n",
        "            <h2>Baz</h2>\n",
        "            <p>Some text about Baz</p>\n",
        "        </div>\n",
        "        <br>\n",
        "        <p>Some concluding text about Foo</p>\n",
        "    </div>\n",
        "</body>\n",
        "</html>\n",
        "\"\"\"\n",
        "\n",
        "headers_to_split_on=[\n",
        "    (\"h1\",\"Header 1\"),\n",
        "    (\"h2\",\"Header 2\"),\n",
        "    (\"h3\",\"Header 3\")\n",
        "]\n",
        "\n",
        "html_splitter=HTMLHeaderTextSplitter(headers_to_split_on)\n",
        "html_header_splits=html_splitter.split_text(html_string)\n",
        "html_header_splits\n"
      ],
      "metadata": {
        "colab": {
          "base_uri": "https://localhost:8080/"
        },
        "id": "yciUjunIJVr0",
        "outputId": "d5f21ef0-5a00-40e5-cc34-70ffe0173ff3"
      },
      "execution_count": 2,
      "outputs": [
        {
          "output_type": "execute_result",
          "data": {
            "text/plain": [
              "[Document(metadata={}, page_content='Foo'),\n",
              " Document(metadata={'Header 1': 'Foo'}, page_content='Some intro text about Foo.  \\nBar main section Bar subsection 1 Bar subsection 2'),\n",
              " Document(metadata={'Header 1': 'Foo', 'Header 2': 'Bar main section'}, page_content='Some intro text about Bar.'),\n",
              " Document(metadata={'Header 1': 'Foo', 'Header 2': 'Bar main section', 'Header 3': 'Bar subsection 1'}, page_content='Some text about the first subtopic of Bar.'),\n",
              " Document(metadata={'Header 1': 'Foo', 'Header 2': 'Bar main section', 'Header 3': 'Bar subsection 2'}, page_content='Some text about the second subtopic of Bar.'),\n",
              " Document(metadata={'Header 1': 'Foo'}, page_content='Baz'),\n",
              " Document(metadata={'Header 1': 'Foo', 'Header 2': 'Baz'}, page_content='Some text about Baz'),\n",
              " Document(metadata={'Header 1': 'Foo'}, page_content='Some concluding text about Foo')]"
            ]
          },
          "metadata": {},
          "execution_count": 2
        }
      ]
    },
    {
      "cell_type": "code",
      "source": [
        "url = \"https://pypi.org/project/langchain-community/\"\n",
        "\n",
        "headers_to_split_on = [\n",
        "    (\"h1\", \"Header 1\"),\n",
        "    (\"h2\", \"Header 2\"),\n",
        "    (\"h3\", \"Header 3\"),\n",
        "    (\"h4\", \"Header 4\"),\n",
        "]\n",
        "html_splitter = HTMLHeaderTextSplitter(headers_to_split_on)\n",
        "html_header_splits = html_splitter.split_text_from_url(url)\n",
        "html_header_splits"
      ],
      "metadata": {
        "colab": {
          "base_uri": "https://localhost:8080/"
        },
        "id": "lh0o374IJVvs",
        "outputId": "733d5e9c-55e6-415e-d117-94732836b07c"
      },
      "execution_count": 3,
      "outputs": [
        {
          "output_type": "execute_result",
          "data": {
            "text/plain": [
              "[Document(metadata={}, page_content='Warning Some features may not work without JavaScript. Please try enabling it if you encounter problems.  \\nSearch PyPI Search  \\nMenu  \\nHelp Sponsors Log in Register  \\nHelp Sponsors Log in Register  \\nSearch PyPI Search  \\nlangchain-community 0.3.15'),\n",
              " Document(metadata={'Header 1': 'langchain-community 0.3.15'}, page_content='pip install langchain-community Copy PIP instructions'),\n",
              " Document(metadata={}, page_content='Latest version  \\nReleased: Jan 21, 2025  \\nCommunity contributed LangChain integrations.  \\nNavigation'),\n",
              " Document(metadata={'Header 3': 'Navigation'}, page_content='Project description Release history Download files'),\n",
              " Document(metadata={}, page_content='Verified details These details have been verified by PyPI Project links GitHub Statistics Maintainers baskaryan efriis hwchase17 langchain'),\n",
              " Document(metadata={'Header 3': 'Verified details'}, page_content='Homepage Release Notes Repository Source Code  \\nRepository Stars: Forks: Open issues: Open PRs:'),\n",
              " Document(metadata={}, page_content='Unverified details These details have not been verified by PyPI'),\n",
              " Document(metadata={'Header 3': 'Unverified details'}, page_content='Meta  \\nLicense: MIT License (MIT) Requires: Python <4.0, >=3.9  \\nClassifiers  \\nLicense Programming Language  \\nOSI Approved :: MIT License  \\nPython :: 3 Python :: 3.9 Python :: 3.10 Python :: 3.11 Python :: 3.12 Python :: 3.13'),\n",
              " Document(metadata={}, page_content='Project description Project details Release history Download files  \\nProject description'),\n",
              " Document(metadata={'Header 2': 'Project description'}, page_content='🦜️🧑\\u200d🤝\\u200d🧑 LangChain Community Quick Install pip install langchain-community What is it? 📕 Releases & Versioning 💁 Contributing'),\n",
              " Document(metadata={'Header 2': 'What is it?', 'Header 1': '🦜️🧑\\u200d🤝\\u200d🧑 LangChain Community'}, page_content='LangChain Community contains third-party integrations that implement the base interfaces defined in LangChain Core, making them ready-to-use in any LangChain application.  \\nFor full documentation see the API reference.'),\n",
              " Document(metadata={'Header 2': '📕 Releases & Versioning', 'Header 1': '🦜️🧑\\u200d🤝\\u200d🧑 LangChain Community'}, page_content='langchain-community is currently on version 0.0.x  \\nAll changes will be accompanied by a patch version increase.'),\n",
              " Document(metadata={'Header 2': '💁 Contributing', 'Header 1': '🦜️🧑\\u200d🤝\\u200d🧑 LangChain Community'}, page_content='As an open-source project in a rapidly developing field, we are extremely open to contributions, whether it be in the form of a new feature, improved infrastructure, or better documentation.  \\nFor detailed information on how to contribute, see the Contributing Guide.'),\n",
              " Document(metadata={}, page_content='Project details'),\n",
              " Document(metadata={'Header 2': 'Project details'}, page_content='Verified details These details have been verified by PyPI Project links GitHub Statistics Maintainers baskaryan efriis hwchase17 langchain'),\n",
              " Document(metadata={'Header 2': 'Project details', 'Header 3': 'Verified details'}, page_content='Homepage Release Notes Repository Source Code  \\nRepository Stars: Forks: Open issues: Open PRs:'),\n",
              " Document(metadata={'Header 2': 'Project details'}, page_content='Unverified details These details have not been verified by PyPI'),\n",
              " Document(metadata={'Header 2': 'Project details', 'Header 3': 'Unverified details'}, page_content='Meta  \\nLicense: MIT License (MIT) Requires: Python <4.0, >=3.9  \\nClassifiers  \\nLicense Programming Language  \\nOSI Approved :: MIT License  \\nPython :: 3 Python :: 3.9 Python :: 3.10 Python :: 3.11 Python :: 3.12 Python :: 3.13'),\n",
              " Document(metadata={}, page_content='Release history Release notifications | RSS feed'),\n",
              " Document(metadata={'Header 2': 'Release history Release notifications | RSS feed'}, page_content='This version  \\n0.3.15  \\nJan 21, 2025  \\n0.3.14  \\nJan 3, 2025  \\n0.3.13  \\nDec 19, 2024  \\n0.3.12  \\nDec 14, 2024  \\n0.3.11  \\nDec 10, 2024  \\n0.3.10  \\nDec 7, 2024  \\n0.3.9  \\nDec 2, 2024  \\n0.3.8  \\nNov 23, 2024  \\n0.3.7  \\nNov 12, 2024  \\n0.3.6  \\nNov 12, 2024  \\n0.3.5  \\nNov 1, 2024  \\n0.3.4  \\nOct 31, 2024  \\n0.3.3  \\nOct 18, 2024  \\n0.3.2  \\nOct 9, 2024  \\n0.3.1  \\nSep 25, 2024  \\n0.3.0  \\nSep 13, 2024  \\n0.3.0.dev2 pre-release  \\nSep 11, 2024  \\n0.3.0.dev1 pre-release  \\nSep 5, 2024  \\n0.2.19  \\nNov 12, 2024  \\n0.2.18  \\nNov 4, 2024  \\n0.2.17  \\nSep 13, 2024  \\n0.2.16  \\nSep 3, 2024  \\n0.2.15  \\nAug 30, 2024  \\n0.2.14 yanked  \\nAug 28, 2024  \\nReason this release was yanked:  \\nOverly restrictive langchain-core dependency. Fixed in 0.2.15.  \\n0.2.13  \\nAug 28, 2024  \\n0.2.12  \\nAug 13, 2024  \\n0.2.11  \\nAug 2, 2024  \\n0.2.10  \\nJul 23, 2024  \\n0.2.9  \\nJul 19, 2024  \\n0.2.7  \\nJul 9, 2024  \\n0.2.6  \\nJun 25, 2024  \\n0.2.5  \\nJun 14, 2024  \\n0.2.4  \\nJun 7, 2024  \\n0.2.3  \\nJun 5, 2024  \\n0.2.2  \\nJun 4, 2024  \\n0.2.1  \\nMay 23, 2024  \\n0.2.0  \\nMay 17, 2024  \\n0.2.0rc1 pre-release  \\nMay 9, 2024  \\n0.0.38  \\nMay 8, 2024  \\n0.0.37  \\nMay 6, 2024  \\n0.0.36  \\nApr 30, 2024  \\n0.0.35  \\nApr 30, 2024  \\n0.0.34  \\nApr 19, 2024  \\n0.0.33  \\nApr 16, 2024  \\n0.0.32  \\nApr 9, 2024  \\n0.0.31  \\nApr 1, 2024  \\n0.0.30  \\nApr 1, 2024  \\n0.0.29  \\nMar 20, 2024  \\n0.0.28  \\nMar 12, 2024  \\n0.0.27  \\nMar 7, 2024  \\n0.0.26  \\nMar 6, 2024  \\n0.0.25  \\nMar 2, 2024  \\n0.0.24  \\nFeb 23, 2024  \\n0.0.23  \\nFeb 23, 2024  \\n0.0.22  \\nFeb 23, 2024  \\n0.0.21  \\nFeb 19, 2024  \\n0.0.20  \\nFeb 13, 2024  \\n0.0.19  \\nFeb 7, 2024  \\n0.0.18  \\nFeb 6, 2024  \\n0.0.17  \\nFeb 1, 2024  \\n0.0.16  \\nJan 25, 2024  \\n0.0.15  \\nJan 23, 2024  \\n0.0.14  \\nJan 22, 2024  \\n0.0.13  \\nJan 16, 2024  \\n0.0.12  \\nJan 12, 2024  \\n0.0.11  \\nJan 9, 2024  \\n0.0.10  \\nJan 8, 2024  \\n0.0.9 yanked  \\nJan 6, 2024  \\nReason this release was yanked:  \\nbad imports from langchain-core  \\n0.0.8  \\nJan 3, 2024  \\n0.0.7  \\nDec 29, 2023  \\n0.0.6  \\nDec 21, 2023  \\n0.0.5  \\nDec 20, 2023  \\n0.0.4  \\nDec 18, 2023  \\n0.0.3  \\nDec 13, 2023  \\n0.0.2  \\nDec 12, 2023  \\n0.0.1  \\nDec 11, 2023  \\n0.0.1rc2 pre-release  \\nDec 9, 2023  \\n0.0.1rc1 pre-release  \\nDec 8, 2023'),\n",
              " Document(metadata={}, page_content='Download files Source Distribution Built Distribution'),\n",
              " Document(metadata={'Header 2': 'Download files'}, page_content=\"Download the file for your platform. If you're not sure which to choose, learn more about installing packages.\"),\n",
              " Document(metadata={'Header 2': 'Download files', 'Header 3': 'Source Distribution'}, page_content='langchain_community-0.3.15.tar.gz (1.7 MB view details)  \\nUploaded Jan 21, 2025 Source'),\n",
              " Document(metadata={'Header 2': 'Download files', 'Header 3': 'Built Distribution'}, page_content='langchain_community-0.3.15-py3-none-any.whl (2.5 MB view details)  \\nUploaded Jan 21, 2025 Python 3'),\n",
              " Document(metadata={}, page_content='File details File metadata File hashes'),\n",
              " Document(metadata={'Header 2': 'File details'}, page_content='Details for the file langchain_community-0.3.15.tar.gz.'),\n",
              " Document(metadata={'Header 2': 'File details', 'Header 3': 'File metadata'}, page_content='Download URL: langchain_community-0.3.15.tar.gz Upload date: Jan 21, 2025 Size: 1.7 MB Tags: Source Uploaded using Trusted Publishing? Yes Uploaded via: twine/6.0.1 CPython/3.12.8'),\n",
              " Document(metadata={'Header 2': 'File details', 'Header 3': 'File hashes'}, page_content='Hashes for langchain_community-0.3.15.tar.gz Algorithm Hash digest SHA256 c2fee46a0ea1b94c475bd4263edb53d5615dbe37c5263480bf55cb8e465ac235 Copy MD5 a1904715c0073a86c8ecb8000f0f9940 Copy BLAKE2b-256 ed47a66620af03f108a01f7120153f144639b7531052568320ab7e8a6bb603db Copy  \\nSee more details on using hashes here.'),\n",
              " Document(metadata={}, page_content='File details File metadata File hashes'),\n",
              " Document(metadata={'Header 2': 'File details'}, page_content='Details for the file langchain_community-0.3.15-py3-none-any.whl.'),\n",
              " Document(metadata={'Header 2': 'File details', 'Header 3': 'File metadata'}, page_content='Download URL: langchain_community-0.3.15-py3-none-any.whl Upload date: Jan 21, 2025 Size: 2.5 MB Tags: Python 3 Uploaded using Trusted Publishing? Yes Uploaded via: twine/6.0.1 CPython/3.12.8'),\n",
              " Document(metadata={'Header 2': 'File details', 'Header 3': 'File hashes'}, page_content='Hashes for langchain_community-0.3.15-py3-none-any.whl Algorithm Hash digest SHA256 5b6ac359f75922a826566f94eb9a9b5c763cc78f395f0baf2f5638e62fdae1dd Copy MD5 5a290ae72eef69cd3c3bace9951239c1 Copy BLAKE2b-256 0ec847c0018d1448bbd40cd82d0d4ed72b3b9c63e7b23990c7c429da996cd2c1 Copy  \\nSee more details on using hashes here.'),\n",
              " Document(metadata={}, page_content='Help'),\n",
              " Document(metadata={'Header 2': 'Help'}, page_content='Installing packages Uploading packages User guide Project name retention FAQs'),\n",
              " Document(metadata={}, page_content='About PyPI'),\n",
              " Document(metadata={'Header 2': 'About PyPI'}, page_content='PyPI Blog Infrastructure dashboard Statistics Logos & trademarks Our sponsors'),\n",
              " Document(metadata={}, page_content='Contributing to PyPI'),\n",
              " Document(metadata={'Header 2': 'Contributing to PyPI'}, page_content='Bugs and feedback Contribute on GitHub Translate PyPI Sponsor PyPI Development credits'),\n",
              " Document(metadata={}, page_content='Using PyPI'),\n",
              " Document(metadata={'Header 2': 'Using PyPI'}, page_content='Code of conduct Report security issue Privacy Notice Terms of Use Acceptable Use Policy'),\n",
              " Document(metadata={}, page_content='Status: all systems operational  \\nDeveloped and maintained by the Python community, for the Python community. Donate today!  \\n\"PyPI\", \"Python Package Index\", and the blocks logos are registered trademarks of the Python Software Foundation.  \\n© 2025 Python Software Foundation Site map  \\nSwitch to desktop version  \\nEnglish español français 日本語 português (Brasil) українська Ελληνικά Deutsch 中文 (简体) 中文 (繁體) русский עברית Esperanto 한국어  \\nAWS Cloud computing and Security Sponsor Datadog Monitoring Fastly CDN Google Download Analytics Pingdom Monitoring Sentry Error logging StatusPage Status page  \\nSupported by')]"
            ]
          },
          "metadata": {},
          "execution_count": 3
        }
      ]
    },
    {
      "cell_type": "code",
      "source": [],
      "metadata": {
        "id": "oMkOtlJtJVzU"
      },
      "execution_count": null,
      "outputs": []
    },
    {
      "cell_type": "code",
      "source": [],
      "metadata": {
        "id": "l9l3cdxaJV3J"
      },
      "execution_count": null,
      "outputs": []
    },
    {
      "cell_type": "code",
      "source": [],
      "metadata": {
        "id": "yvTAooibJV7H"
      },
      "execution_count": null,
      "outputs": []
    }
  ]
}